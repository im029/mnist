{
 "cells": [
  {
   "cell_type": "markdown",
   "metadata": {},
   "source": [
    "# Neural Network for MNIST Classification\n",
    "\n",
    "The MNIST dataset of handwritten digits is the `hello world` for anyone starting with Deep Learning.  \n",
    "\n",
    "Some facts about the MNIST dataset:\n",
    "* Contains 70,000 examples of handwritten digits\n",
    "* 60,000 are training examples and 10,000 are testing examples\n",
    "* Each image is of size 28 * 28\n",
    "* Images in the dataset are grayscale \n",
    "\n",
    "For detailed info visit http://yann.lecun.com/exdb/mnist/"
   ]
  },
  {
   "cell_type": "markdown",
   "metadata": {},
   "source": [
    "## Import required libraries\n",
    "\n",
    "[**Tensorflow**](https://www.tensorflow.org) for creating neural networks. Notice that tensorflow comes with the MNIST data set included. The dataset included is nicely split into testing and training sets already as we will see.\n",
    "\n",
    "[**Matplotlib**](https://matplotlib.org/) for creating graphs."
   ]
  },
  {
   "cell_type": "code",
   "execution_count": 12,
   "metadata": {},
   "outputs": [],
   "source": [
    "import tensorflow as tf\n",
    "# import the mnist dataset that comes with tensorflow\n",
    "from tensorflow.examples.tutorials.mnist import input_data\n",
    "\n",
    "import matplotlib.pyplot as plt\n",
    "# allows graph to be drawn inline and shown in output.\n",
    "%matplotlib inline\n",
    "plt.rcParams['figure.figsize'] = (5.0, 4.0)\n",
    "plt.rcParams['image.cmap'] = 'Greys'"
   ]
  },
  {
   "cell_type": "markdown",
   "metadata": {},
   "source": [
    "##### Load Dataset"
   ]
  },
  {
   "cell_type": "code",
   "execution_count": 2,
   "metadata": {},
   "outputs": [
    {
     "name": "stdout",
     "output_type": "stream",
     "text": [
      "Extracting MNIST_data/train-images-idx3-ubyte.gz\n",
      "Extracting MNIST_data/train-labels-idx1-ubyte.gz\n",
      "Extracting MNIST_data/t10k-images-idx3-ubyte.gz\n",
      "Extracting MNIST_data/t10k-labels-idx1-ubyte.gz\n"
     ]
    }
   ],
   "source": [
    "mnist = input_data.read_data_sets('MNIST_data/', one_hot=True)"
   ]
  },
  {
   "cell_type": "markdown",
   "metadata": {
    "slideshow": {
     "slide_type": "-"
    }
   },
   "source": [
    "###### Now we will inspect the shapes of our training and testing sets"
   ]
  },
  {
   "cell_type": "code",
   "execution_count": 3,
   "metadata": {},
   "outputs": [
    {
     "name": "stdout",
     "output_type": "stream",
     "text": [
      "Shape of the training images: (55000, 784)\n",
      "Shape of the training labels: (55000, 10)\n",
      "=============\n",
      "Shape of the testing images: (10000, 784)\n",
      "Shape of the testing labels: (10000, 10)\n"
     ]
    }
   ],
   "source": [
    "print(\"Shape of the training images: {}\".format(mnist.train.images.shape))\n",
    "print(\"Shape of the training labels: {}\".format(mnist.train.labels.shape))\n",
    "\n",
    "print(\"=============\")\n",
    "\n",
    "print(\"Shape of the testing images: {}\".format(mnist.test.images.shape))\n",
    "print(\"Shape of the testing labels: {}\".format(mnist.test.labels.shape))"
   ]
  },
  {
   "cell_type": "markdown",
   "metadata": {},
   "source": [
    "We have 55000 training examples. We will use this set for training our neural network\n",
    "\n",
    "Interesting thing to note is that each example has dimension 784. As mentioned earlier the images in MNIST dataset are 28 X 28. We can visualize that image as 2d matrix of dimension 28 X 28 (put these numbers into your calculator). This matrix can be rearranged as 784 X 1."
   ]
  },
  {
   "cell_type": "markdown",
   "metadata": {},
   "source": [
    "Lets inspect one of our examples."
   ]
  },
  {
   "cell_type": "code",
   "execution_count": 4,
   "metadata": {},
   "outputs": [
    {
     "data": {
      "text/plain": [
       "<matplotlib.image.AxesImage at 0x180c2b428d0>"
      ]
     },
     "execution_count": 4,
     "metadata": {},
     "output_type": "execute_result"
    },
    {
     "data": {
      "image/png": "[encoded data removed]",
      "text/plain": [
       "<matplotlib.figure.Figure at 0x180c2a6f2b0>"
      ]
     },
     "metadata": {},
     "output_type": "display_data"
    }
   ],
   "source": [
    "image = mnist.test.images[1]\n",
    "plt.imshow(image.reshape((28,28)))"
   ]
  },
  {
   "cell_type": "markdown",
   "metadata": {},
   "source": [
    "Create two placeholders one for input and one for output. Notice that the first dimension is `None`. This means that we are asking tensorflow to decide that dimension automatically."
   ]
  },
  {
   "cell_type": "code",
   "execution_count": 5,
   "metadata": {},
   "outputs": [],
   "source": [
    "# create placeholders for input data, note that the first dimension is None.\n",
    "x = tf.placeholder(tf.float32, [None, 784], name=\"Inputs\")\n",
    "# create placeholder for outputs. We have 10 possible outputs\n",
    "y_ = tf.placeholder(tf.float32, [None, 10], name=\"Outputs\")"
   ]
  },
  {
   "cell_type": "markdown",
   "metadata": {},
   "source": [
    "#### Building the Neural Network Architecture\n",
    "\n",
    "We have the following architecture.\n",
    "\n",
    "2 hidden layers.\n",
    "\n",
    "1st hidden layer: Input 784 -> ReLu -> Output 400  \n",
    "2nd hidden layer: Input 400 -> ReLu -> Output 100\n",
    "\n",
    "Output Layer: Input 100 -> softmax -> Output 10\n",
    "\n",
    "The softmax outputs the probability distribution."
   ]
  },
  {
   "cell_type": "code",
   "execution_count": 6,
   "metadata": {},
   "outputs": [],
   "source": [
    "# Layer 1\n",
    "# create a weight matrix\n",
    "W1 = tf.Variable(tf.truncated_normal(shape=[784, 400], stddev=0.1), name=\"Weights_Layer1\")\n",
    "# bias matrix\n",
    "b1 = tf.Variable(tf.constant(0.1, shape=[400]), name=\"bias_Layer1\")\n",
    "# activation function\n",
    "a1 = tf.nn.relu(tf.matmul(x, W1) + b1, name=\"RELU_1\")\n",
    "\n",
    "# Layer 2\n",
    "W2 = tf.Variable(tf.truncated_normal(shape=[400, 100], stddev=0.1), name=\"Weights_Layer2\")\n",
    "b2 = tf.Variable(tf.constant(0.1, shape=[100]), name=\"bias_Layer2\")\n",
    "a2 = tf.nn.relu(tf.matmul(a1, W2) + b2, name=\"RELU_2\")\n",
    "\n",
    "# Output Layer\n",
    "W3 = tf.Variable(tf.truncated_normal(shape=[100, 10], stddev=0.1), name=\"Weights_Output\")\n",
    "b3 = tf.Variable(tf.constant(0.1, shape=[10]), name=\"bias_Output\")\n",
    "# softmax to generate probability distribution\n",
    "y = tf.nn.softmax(tf.matmul(a2, W3) + b3, name=\"softmax_Output\")"
   ]
  },
  {
   "cell_type": "markdown",
   "metadata": {},
   "source": [
    "#### The loss function\n",
    "The loss function is used by the optimizer. The optimizer tries to minimize the loss.\n",
    "\n",
    "We are using the cross entropy loss. Tensorflow provides builtin in cross entropy loss function we can also use that. "
   ]
  },
  {
   "cell_type": "code",
   "execution_count": 7,
   "metadata": {},
   "outputs": [],
   "source": [
    "cross_entropy = tf.reduce_mean(-tf.reduce_sum(y_*tf.log(y), reduction_indices=[1]))"
   ]
  },
  {
   "cell_type": "markdown",
   "metadata": {},
   "source": [
    "#### Optimizer\n",
    "\n",
    "Optimizer is the main workhorse here. The optimizer will adjust the weights and learn the generalized function.\n",
    "\n",
    "There are various optimizers available. We will be using [Stochastic gradient descent](https://en.wikipedia.org/wiki/Stochastic_gradient_descent)."
   ]
  },
  {
   "cell_type": "code",
   "execution_count": 8,
   "metadata": {},
   "outputs": [],
   "source": [
    "train_step = tf.train.GradientDescentOptimizer(0.5).minimize(cross_entropy)"
   ]
  },
  {
   "cell_type": "markdown",
   "metadata": {},
   "source": [
    "#### Start Training"
   ]
  },
  {
   "cell_type": "code",
   "execution_count": 9,
   "metadata": {},
   "outputs": [],
   "source": [
    "# initalize variables\n",
    "init = tf.global_variables_initializer()\n",
    "sess = tf.Session()\n",
    "sess.run(init)"
   ]
  },
  {
   "cell_type": "markdown",
   "metadata": {},
   "source": [
    "Train for 1000 epochs taking 100 examples at a time"
   ]
  },
  {
   "cell_type": "code",
   "execution_count": 10,
   "metadata": {},
   "outputs": [],
   "source": [
    "for i in range(1000):\n",
    "    # train in minibaches of 100\n",
    "    batch_x, batch_y = mnist.train.next_batch(100)\n",
    "    # this line trains the network\n",
    "    sess.run(train_step, feed_dict={x: batch_x, y_: batch_y})"
   ]
  },
  {
   "cell_type": "markdown",
   "metadata": {},
   "source": [
    "#### Check accuracy\n",
    "\n",
    "We will check predicted value against the gound truth"
   ]
  },
  {
   "cell_type": "code",
   "execution_count": 11,
   "metadata": {},
   "outputs": [
    {
     "name": "stdout",
     "output_type": "stream",
     "text": [
      "Accuracy: 97.17%\n",
      "Loss: 0.0914\n"
     ]
    }
   ],
   "source": [
    "correct_prediction = tf.equal(tf.argmax(y, 1), tf.argmax(y_, 1))\n",
    "accuracy = tf.reduce_mean(tf.cast(correct_prediction, tf.float32))\n",
    "ac, loss = sess.run([accuracy, cross_entropy], feed_dict={x: mnist.test.images, y_: mnist.test.labels})\n",
    "\n",
    "print(\"Accuracy: {:0.2f}%\".format(ac * 100))\n",
    "print(\"Loss: {:0.4f}\".format(loss))"
   ]
  },
  {
   "cell_type": "markdown",
   "metadata": {},
   "source": [
    "### Concluding Remarks\n",
    "***\n",
    "\n",
    "We trained a Simple Neural Network for MNIST classification and achieved fairly high accuracy. However, there are few things that we left.\n",
    "\n",
    "In MNIST, there are 60000 training examples, but when we printed the shape of training set there were 55000 examples only. Where did those 5000 go?\n",
    "\n",
    "We will explore this later."
   ]
  }
 ],
 "metadata": {
  "kernelspec": {
   "display_name": "Python 3",
   "language": "python",
   "name": "python3"
  },
  "language_info": {
   "codemirror_mode": {
    "name": "ipython",
    "version": 3
   },
   "file_extension": ".py",
   "mimetype": "text/x-python",
   "name": "python",
   "nbconvert_exporter": "python",
   "pygments_lexer": "ipython3",
   "version": "3.6.4"
  }
 },
 "nbformat": 4,
 "nbformat_minor": 2
}
